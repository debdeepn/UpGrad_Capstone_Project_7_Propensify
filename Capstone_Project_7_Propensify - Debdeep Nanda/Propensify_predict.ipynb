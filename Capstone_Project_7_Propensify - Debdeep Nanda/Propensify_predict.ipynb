{
 "cells": [
  {
   "cell_type": "code",
   "execution_count": 1,
   "id": "e0b22389",
   "metadata": {},
   "outputs": [
    {
     "name": "stdout",
     "output_type": "stream",
     "text": [
      "Requirement already satisfied: xgboost in c:\\users\\debde\\anaconda3\\lib\\site-packages (2.0.3)\n",
      "Requirement already satisfied: numpy in c:\\users\\debde\\anaconda3\\lib\\site-packages (from xgboost) (1.24.3)\n",
      "Requirement already satisfied: scipy in c:\\users\\debde\\anaconda3\\lib\\site-packages (from xgboost) (1.11.1)\n"
     ]
    }
   ],
   "source": [
    "import os\n",
    "import joblib\n",
    "import pandas as pd\n",
    "import numpy as np\n",
    "import seaborn as sns\n",
    "import matplotlib.pyplot as plt\n",
    "!pip install xgboost\n",
    "import xgboost as xgb\n",
    "from sklearn.model_selection import train_test_split\n",
    "import statsmodels.api as sm\n",
    "from sklearn.feature_selection import RFECV\n",
    "from sklearn.linear_model import LogisticRegression\n",
    "from sklearn.preprocessing import StandardScaler\n",
    "from sklearn.preprocessing import LabelEncoder\n",
    "from sklearn.preprocessing import TargetEncoder\n",
    "from sklearn.metrics import roc_auc_score"
   ]
  },
  {
   "cell_type": "code",
   "execution_count": 10,
   "id": "97ce64c6",
   "metadata": {},
   "outputs": [],
   "source": [
    "folder_path = 'model_folder'\n",
    "\n",
    "labelEncoders=joblib.load(os.path.join(folder_path, 'labelEncoders.pkl'))\n",
    "target_encoder=joblib.load(os.path.join(folder_path, 'target_encoder.pkl'))\n",
    "sc_multiclass=joblib.load(os.path.join(folder_path, 'sc_multiclass.pkl'))\n",
    "sc_numerical=joblib.load(os.path.join(folder_path, 'sc_numerical.pkl'))\n",
    "numerical=joblib.load(os.path.join(folder_path, 'numerical.pkl'))\n",
    "multiclass_cols=joblib.load(os.path.join(folder_path, 'multiclass_cols.pkl'))\n",
    "binary_cols_from_cat_cols=joblib.load(os.path.join(folder_path, 'binary_cols_from_cat_cols.pkl'))\n",
    "binary=joblib.load(os.path.join(folder_path, 'binary.pkl'))\n",
    "xgb_model=joblib.load(os.path.join(folder_path, 'xgb_model.pkl'))\n",
    "selector=joblib.load(os.path.join(folder_path, 'selector.pk1'))\n",
    "dependent=joblib.load(os.path.join(folder_path, 'dependent.pk1'))"
   ]
  },
  {
   "cell_type": "code",
   "execution_count": 11,
   "id": "99aa3834",
   "metadata": {},
   "outputs": [
    {
     "name": "stderr",
     "output_type": "stream",
     "text": [
      "C:\\Users\\debde\\AppData\\Local\\Temp\\ipykernel_36320\\3327457496.py:13: SettingWithCopyWarning: \n",
      "A value is trying to be set on a copy of a slice from a DataFrame.\n",
      "Try using .loc[row_indexer,col_indexer] = value instead\n",
      "\n",
      "See the caveats in the documentation: https://pandas.pydata.org/pandas-docs/stable/user_guide/indexing.html#returning-a-view-versus-a-copy\n",
      "  binaryFromCat_test[col] = encoder.transform(binaryFromCat_test[col])\n"
     ]
    }
   ],
   "source": [
    "propensify_test_orig = pd.read_excel('test.xlsx')\n",
    "propensify_test = propensify_test_orig.copy(deep=True)\n",
    "multiclass_features_test = pd.DataFrame(target_encoder.transform(propensify_test[multiclass_cols]), columns = multiclass_cols)\n",
    "\n",
    "\n",
    "binary_cols_from_cat_cols_new = binary_cols_from_cat_cols.copy()\n",
    "binary_cols_from_cat_cols_new.remove(dependent)\n",
    "binaryFromCat_test = propensify_test[binary_cols_from_cat_cols_new]\n",
    "i=0\n",
    "for col in binary_cols_from_cat_cols:\n",
    "    if col!=dependent:\n",
    "        encoder = labelEncoders[i]\n",
    "        binaryFromCat_test[col] = encoder.transform(binaryFromCat_test[col])\n",
    "    i += 1\n",
    "    \n",
    "multiclass_features_test = pd.DataFrame(sc_multiclass.transform(multiclass_features_test), columns = multiclass_cols)\n",
    "numerical_features_test = pd.DataFrame(sc_numerical.transform(propensify_test[numerical]), columns = numerical)\n",
    "\n",
    "binary_features_test = propensify_test[binary]\n",
    "\n",
    "numerical_features_test.reset_index(drop=True, inplace=True)\n",
    "binaryFromCat_test.reset_index(drop=True, inplace=True)\n",
    "multiclass_features_test.reset_index(drop=True, inplace=True)\n",
    "binary_features_test.reset_index(drop=True, inplace=True)\n",
    "\n",
    "p_test = pd.concat([numerical_features_test,binary_features_test,binaryFromCat_test, multiclass_features_test], axis=1)\n",
    "\n",
    "X_test_reducedDim = p_test.loc[:,selector.support_]\n",
    "\n",
    "test_dm = xgb.DMatrix(data =  X_test_reducedDim, feature_names=list(X_test_reducedDim.columns))\n",
    "y_test_pred = xgb_model.predict(test_dm)\n",
    "y_test_pred.shape\n",
    "\n",
    "propensify_test[\"will respond?\"] = y_test_pred\n",
    "\n",
    "propensify_test.shape\n",
    "\n",
    "propensify_test[\"will respond?\"] = np.where(propensify_test[\"will respond?\"] > 0.5, 'Yes', 'No')\n",
    "\n",
    "propensify_test\n",
    "\n",
    "propensify_test.to_excel('output_fromApp.xlsx', index=False)"
   ]
  },
  {
   "cell_type": "code",
   "execution_count": null,
   "id": "d800f6e8",
   "metadata": {},
   "outputs": [],
   "source": []
  }
 ],
 "metadata": {
  "kernelspec": {
   "display_name": "Python 3 (ipykernel)",
   "language": "python",
   "name": "python3"
  },
  "language_info": {
   "codemirror_mode": {
    "name": "ipython",
    "version": 3
   },
   "file_extension": ".py",
   "mimetype": "text/x-python",
   "name": "python",
   "nbconvert_exporter": "python",
   "pygments_lexer": "ipython3",
   "version": "3.11.5"
  }
 },
 "nbformat": 4,
 "nbformat_minor": 5
}
